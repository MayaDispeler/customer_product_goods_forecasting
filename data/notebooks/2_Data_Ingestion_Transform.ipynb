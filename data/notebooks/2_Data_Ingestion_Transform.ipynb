{
 "cells": [
  {
   "cell_type": "code",
   "execution_count": null,
   "metadata": {
    "vscode": {
     "languageId": "plaintext"
    }
   },
   "outputs": [],
   "source": [
    "# Replace these with your actual values:\n",
    "storage_account_name = \"<your storage account>\" \n",
    "container_name = \"<your container name>\"\n",
    "sas_token = \"<your SAS Token>\"\n",
    "\n",
    "# Set the Spark configuration to use the SAS token\n",
    "spark.conf.set(f\"fs.azure.account.auth.type.{storage_account_name}.dfs.core.windows.net\", \"SAS\")\n",
    "spark.conf.set(f\"fs.azure.sas.token.provider.type.{storage_account_name}.dfs.core.windows.net\", \"org.apache.hadoop.fs.azurebfs.sas.FixedSASTokenProvider\")\n",
    "spark.conf.set(f\"fs.azure.sas.fixed.token.{storage_account_name}.dfs.core.windows.net\", sas_token)\n",
    "\n",
    "# Full path to the CSV in your raw container:\n",
    "csv_file_path = f\"abfss://{container_name}@{storage_account_name}.dfs.core.windows.net/sales_data.csv\"\n",
    "\n",
    "# Let's read it with Spark:\n",
    "df = spark.read.option(\"header\", \"true\").csv(csv_file_path)\n",
    "display(df)"
   ]
  },
  {
   "cell_type": "code",
   "execution_count": null,
   "metadata": {
    "vscode": {
     "languageId": "plaintext"
    }
   },
   "outputs": [],
   "source": [
    "from pyspark.sql.functions import col\n",
    "\n",
    "# Convert sales_qty to integer (if read as string)\n",
    "df2 = df.withColumn(\"sales_qty\", col(\"sales_qty\").cast(\"int\"))\n",
    "\n",
    "# Example: filter out rows with sales_qty < 10\n",
    "df_filtered = df2.filter(col(\"sales_qty\") >= 10)\n",
    "\n",
    "# Show results\n",
    "df_filtered.show()"
   ]
  },
  {
   "cell_type": "code",
   "execution_count": null,
   "metadata": {
    "vscode": {
     "languageId": "plaintext"
    }
   },
   "outputs": [],
   "source": [
    "container_name = \"<your 2nd container name>\"\n",
    "\n",
    "\n",
    "# Set the Spark configuration to use the SAS token\n",
    "spark.conf.set(f\"fs.azure.account.auth.type.{storage_account_name}.dfs.core.windows.net\", \"SAS\")\n",
    "spark.conf.set(f\"fs.azure.sas.token.provider.type.{storage_account_name}.dfs.core.windows.net\", \n",
    "               \"org.apache.hadoop.fs.azurebfs.sas.FixedSASTokenProvider\")\n",
    "spark.conf.set(f\"fs.azure.sas.fixed.token.{storage_account_name}.dfs.core.windows.net\", sas_token)\n",
    "\n",
    "parquet_path = f\"abfss://{container_name}@{storage_account_name}.dfs.core.windows.net/curated_sales_data.parquet\"\n",
    "df_filtered.write.mode(\"overwrite\").parquet(parquet_path)\n",
    "\n",
    "\n",
    "# Ensure df_filtered is correctly defined and has data\n",
    "if df_filtered is not None and df_filtered.count() > 0:\n",
    "    df_filtered.write.mode(\"overwrite\").parquet(parquet_path)\n",
    "else:\n",
    "    print(\"DataFrame is empty or not defined.\")\n"
   ]
  },
  {
   "cell_type": "code",
   "execution_count": null,
   "metadata": {
    "vscode": {
     "languageId": "plaintext"
    }
   },
   "outputs": [],
   "source": [
    "parquet_path = \"abfss://{contianer_name}@{storage_account_name}.dfs.core.windows.net/curated_sales_data.parquet/\"\n",
    "\n",
    "df_result = spark.read.parquet(parquet_path)\n",
    "display(df_result)"
   ]
  },
  {
   "cell_type": "code",
   "execution_count": null,
   "metadata": {
    "vscode": {
     "languageId": "plaintext"
    }
   },
   "outputs": [],
   "source": [
    "dbutils.fs.ls(\"abfss://{container_name}@{storage_account_name}.dfs.core.windows.net/\")"
   ]
  },
  {
   "cell_type": "markdown",
   "metadata": {},
   "source": []
  },
  {
   "cell_type": "markdown",
   "metadata": {},
   "source": []
  },
  {
   "cell_type": "markdown",
   "metadata": {},
   "source": []
  },
  {
   "cell_type": "code",
   "execution_count": null,
   "metadata": {
    "vscode": {
     "languageId": "plaintext"
    }
   },
   "outputs": [],
   "source": [
    "dbutils.fs.ls(\"abfss://{contianer_name}@{storage_account_name}.dfs.core.windows.net/\")"
   ]
  }
 ],
 "metadata": {
  "language_info": {
   "name": "python"
  }
 },
 "nbformat": 4,
 "nbformat_minor": 2
}
