{
 "cells": [
  {
   "cell_type": "code",
   "execution_count": null,
   "metadata": {
    "vscode": {
     "languageId": "plaintext"
    }
   },
   "outputs": [],
   "source": [
    "# ===========================================\n",
    "# 1. Spark config to read from ADLS (SAS)\n",
    "# ===========================================\n",
    "storage_account_name = \"<YOUR_STORAGE_ACCOUNT>\"\n",
    "sas_token = \"<your SAS token>\"  \n",
    "spark.conf.set(f\"fs.azure.account.auth.type.{storage_account_name}.dfs.core.windows.net\", \"SAS\")\n",
    "spark.conf.set(f\"fs.azure.sas.token.provider.type.{storage_account_name}.dfs.core.windows.net\", \"org.apache.hadoop.fs.azurebfs.sas.FixedSASTokenProvider\")\n",
    "spark.conf.set(f\"fs.azure.sas.fixed.token.{storage_account_name}.dfs.core.windows.net\", sas_token)\n",
    "\n",
    "# ===========================================\n",
    "# 2. Read Parquet From ADLS\n",
    "# ===========================================\n",
    "parquet_path = f\"abfss://{your prediction data stored container name}@{storage_account_name}.dfs.core.windows.net/future_predictions.parquet?{sas_token}\"\n",
    "df_preds_spark = spark.read.parquet(parquet_path)\n",
    "\n",
    "# ===========================================\n",
    "# 3. (Optional) Transform/Subset DataFrame\n",
    "# ===========================================\n",
    "df_preds_spark = df_preds_spark.select(\"store_id\", \"product_id\", \"date\", \"predicted_sales_qty\")\n",
    "\n",
    "# ===========================================\n",
    "# 4. Build JDBC Connection Properties\n",
    "# ===========================================\n",
    "jdbc_hostname = \"YOUR_SQL_SERVER_NAME.database.windows.net\"\n",
    "jdbc_port = 1433\n",
    "jdbc_database = \"YOUR_DATABASE_NAME\"\n",
    "\n",
    "jdbc_url = f\"jdbc:sqlserver://{jdbc_hostname}:{jdbc_port};databaseName={jdbc_database}\"\n",
    "\n",
    "db_properties = {\n",
    "    \"user\": \"YOUR_SQL_USERNAME\",\n",
    "    \"password\": \"YOUR_SQL_PASSWORD\",\n",
    "    \"driver\": \"com.microsoft.sqlserver.jdbc.SQLServerDriver\"\n",
    "}\n",
    "\n",
    "table_name = \"dbo.FuturePredictions\"\n",
    "\n",
    "# ===========================================\n",
    "# 5. Write Spark DataFrame to Azure SQL\n",
    "# ===========================================\n",
    "df_preds_spark.write \\\n",
    "  .mode(\"append\") \\\n",
    "  .jdbc(url=jdbc_url, table=table_name, properties=db_properties)\n"
   ]
  }
 ],
 "metadata": {
  "language_info": {
   "name": "python"
  }
 },
 "nbformat": 4,
 "nbformat_minor": 2
}
